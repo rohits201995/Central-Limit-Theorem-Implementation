{
 "cells": [
  {
   "cell_type": "code",
   "execution_count": 5,
   "metadata": {},
   "outputs": [],
   "source": [
    "from numpy.random import randint\n",
    "from numpy import mean\n",
    "from numpy.random import seed\n",
    "from scipy.stats import shapiro\n",
    "import matplotlib.pyplot as plt"
   ]
  },
  {
   "cell_type": "code",
   "execution_count": 6,
   "metadata": {},
   "outputs": [],
   "source": [
    "seed(1)\n",
    "means=[mean(randint(60,90,50)) for i in range(1000)]"
   ]
  },
  {
   "cell_type": "code",
   "execution_count": 7,
   "metadata": {},
   "outputs": [
    {
     "data": {
      "image/png": "[encoded data removed]",
      "text/plain": [
       "<Figure size 432x288 with 1 Axes>"
      ]
     },
     "metadata": {
      "needs_background": "light"
     },
     "output_type": "display_data"
    }
   ],
   "source": [
    "plt.hist(means)\n",
    "plt.show()"
   ]
  },
  {
   "cell_type": "code",
   "execution_count": 8,
   "metadata": {},
   "outputs": [
    {
     "name": "stdout",
     "output_type": "stream",
     "text": [
      "Hypothesis is Accepted\n"
     ]
    }
   ],
   "source": [
    "stat,p=shapiro(means)\n",
    "alpha=0.05\n",
    "if p>alpha:\n",
    "    print(\"Hypothesis is Accepted\")\n",
    "else:\n",
    "    print(\"Hypothesis is Rejected\")"
   ]
  },
  {
   "cell_type": "code",
   "execution_count": 9,
   "metadata": {},
   "outputs": [
    {
     "name": "stdout",
     "output_type": "stream",
     "text": [
      "0.42023879289627075\n"
     ]
    }
   ],
   "source": [
    "print(p)"
   ]
  },
  {
   "cell_type": "code",
   "execution_count": 10,
   "metadata": {},
   "outputs": [],
   "source": [
    "#let's try for other sample values\n",
    "seed(1)\n",
    "means=[mean(randint(60,90,70)) for i in range(1000)]"
   ]
  },
  {
   "cell_type": "code",
   "execution_count": 12,
   "metadata": {},
   "outputs": [
    {
     "name": "stdout",
     "output_type": "stream",
     "text": [
      "Hypothesis is Accepted\n",
      "0.6852357983589172\n"
     ]
    }
   ],
   "source": [
    "stat,p=shapiro(means)\n",
    "alpha=0.05\n",
    "if p>alpha:\n",
    "    print(\"Hypothesis is Accepted\")\n",
    "else:\n",
    "    print(\"Hypothesis is Rejected\")\n",
    "print(p)"
   ]
  },
  {
   "cell_type": "code",
   "execution_count": 13,
   "metadata": {},
   "outputs": [],
   "source": [
    "#some lower sample values\n",
    "#let's try for other sample values\n",
    "seed(1)\n",
    "means=[mean(randint(60,90,10)) for i in range(1000)]"
   ]
  },
  {
   "cell_type": "code",
   "execution_count": 14,
   "metadata": {},
   "outputs": [
    {
     "name": "stdout",
     "output_type": "stream",
     "text": [
      "Hypothesis is Rejected\n",
      "0.010123562067747116\n"
     ]
    }
   ],
   "source": [
    "stat,p=shapiro(means)\n",
    "alpha=0.05\n",
    "if p>alpha:\n",
    "    print(\"Hypothesis is Accepted\")\n",
    "else:\n",
    "    print(\"Hypothesis is Rejected\")\n",
    "print(p)"
   ]
  },
  {
   "cell_type": "markdown",
   "metadata": {},
   "source": [
    "Hence as CLT states that we should always try to pick higher sample values."
   ]
  }
 ],
 "metadata": {
  "kernelspec": {
   "display_name": "Python 3",
   "language": "python",
   "name": "python3"
  },
  "language_info": {
   "codemirror_mode": {
    "name": "ipython",
    "version": 3
   },
   "file_extension": ".py",
   "mimetype": "text/x-python",
   "name": "python",
   "nbconvert_exporter": "python",
   "pygments_lexer": "ipython3",
   "version": "3.7.3"
  }
 },
 "nbformat": 4,
 "nbformat_minor": 2
}
